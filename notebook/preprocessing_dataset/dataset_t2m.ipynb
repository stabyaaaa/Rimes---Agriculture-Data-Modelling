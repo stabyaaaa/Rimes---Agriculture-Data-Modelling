{
 "cells": [
  {
   "cell_type": "markdown",
   "id": "5af16adb",
   "metadata": {},
   "source": [
    "| Variable       | Value                                                                 |\n",
    "|----------------|----------------------------------------------------------------------|\n",
    "| **2m Temperature** | Daily values at 09:00                                             |\n",
    "| **Years**      | 1940 – 2025                                                          |\n",
    "| **Months**     | Jan, Feb, Mar, Apr, May, Jun, Jul, Aug, Sep, Oct, Nov, Dec           |\n",
    "| **Days**       | 01, 02, 03, 04, 05, 06, 11, 13, 14, 15, 16, 17, 18, 19, 21, 22, 23, 25, 27 |\n",
    "| **Time**       | 09:00                                                                |\n"
   ]
  },
  {
   "cell_type": "markdown",
   "id": "102b20b8",
   "metadata": {},
   "source": [
    "When requesting for 24 hours, it exceeded the request limit in netcdf, so the date has been randomly selected. Dataset for remaining days has been approved and is in the process of downloading."
   ]
  },
  {
   "cell_type": "code",
   "execution_count": 1,
   "id": "495f4059",
   "metadata": {},
   "outputs": [],
   "source": [
    "import xarray as xr"
   ]
  },
  {
   "cell_type": "code",
   "execution_count": 2,
   "id": "14be2646",
   "metadata": {},
   "outputs": [],
   "source": [
    "ds = xr.open_dataset(\"../dataset/tref_.nc\")"
   ]
  },
  {
   "cell_type": "markdown",
   "id": "08c60f23",
   "metadata": {},
   "source": [
    "### NetCDF Dataset Overview: Temperature at 2m height\n",
    "\n",
    "| Item          | Description |\n",
    "|---------------|-------------|\n",
    "| **Size**      | 81 GB |\n",
    "| **Dimensions** | `valid_time` (19,538 steps, 1940–2025) <br> `latitude` (721 points, 90° → -90°, 0.25degree grid spacing) <br> `longitude` (1,440 points, 0° → 359.75°, 0.25degree grid spacing) |\n",
    "| **Coordinates** | `valid_time` → time values <br> `latitude` → north–south grid <br> `longitude` → east–west grid <br> `number`, `expver` → metadata |\n",
    "| **Data Variable** | `t2m` → 2-meter temperature - temp at 2m from surgace |\n",
    "| **Attributes** | Source: ECMWF (European Centre for Medium-Range Weather Forecasts) <br> Format: CF-1.7 (Climate/Forecast conventions) <br> Created from GRIB file via cfgrib |\n"
   ]
  },
  {
   "cell_type": "code",
   "execution_count": 3,
   "id": "520f5361",
   "metadata": {},
   "outputs": [],
   "source": [
    "import xarray as xr\n",
    "import pandas as pd\n",
    "\n",
    "\n",
    "\n",
    "#ktm approx bounds\n",
    "lat_min, lat_max = 27.50, 28.000\n",
    "lon_min, lon_max = 85.00, 86.000\n",
    "\n",
    "ds_kathmandu = ds.sel(\n",
    "    latitude=slice(lat_max, lat_min),  # slice from high to low latitude\n",
    "    longitude=slice(lon_min, lon_max)  # slice from low to high longitude\n",
    ")\n",
    "\n",
    "df = ds_kathmandu.to_dataframe().reset_index()\n",
    "df.to_csv(\"../dataset/kathmandu_valley_t2m.csv\", index=False)\n",
    "\n"
   ]
  },
  {
   "cell_type": "markdown",
   "id": "610e459a",
   "metadata": {},
   "source": [
    "Value Check after conversion"
   ]
  },
  {
   "cell_type": "code",
   "execution_count": 4,
   "id": "9c3e5c91",
   "metadata": {},
   "outputs": [
    {
     "name": "stdout",
     "output_type": "stream",
     "text": [
      "NetCDF t2m: 287.1366\n",
      "CSV t2m: 287.1366\n",
      "Value matches Ok\n"
     ]
    }
   ],
   "source": [
    "import xarray as xr\n",
    "import pandas as pd\n",
    "\n",
    "\n",
    "#small set of data to check\n",
    "lat_check = 27.75\n",
    "lon_check = 85.25\n",
    "time_check = \"1990-01-01 09:00:00\"\n",
    "\n",
    "# netcdf value\n",
    "nc_value = ds[\"t2m\"].sel(latitude=lat_check, longitude=lon_check, valid_time=time_check).values\n",
    "print(\"NetCDF t2m:\", nc_value)\n",
    "\n",
    "\n",
    "# Filter the same point\n",
    "csv_value = df[\n",
    "    (df[\"latitude\"] == lat_check) &\n",
    "    (df[\"longitude\"] == lon_check) &\n",
    "    (df[\"valid_time\"] == time_check)\n",
    "][\"t2m\"].values[0]\n",
    "print(\"CSV t2m:\", csv_value)\n",
    "\n",
    "# 4. Compare\n",
    "if nc_value == csv_value:\n",
    "    print(\"Value matches Ok\")\n",
    "else:\n",
    "    print(\"Different\")\n"
   ]
  },
  {
   "cell_type": "code",
   "execution_count": 5,
   "id": "fe160dc9",
   "metadata": {},
   "outputs": [
    {
     "name": "stdout",
     "output_type": "stream",
     "text": [
      "           valid_time  latitude  longitude         t2m  number expver\n",
      "0 1940-01-01 09:00:00      28.0      85.00  285.408539       0   0001\n",
      "1 1940-01-01 09:00:00      28.0      85.25  283.617523       0   0001\n",
      "2 1940-01-01 09:00:00      28.0      85.50  279.180023       0   0001\n",
      "3 1940-01-01 09:00:00      28.0      85.75  274.916351       0   0001\n",
      "4 1940-01-01 09:00:00      28.0      86.00  271.855804       0   0001\n"
     ]
    }
   ],
   "source": [
    "print(df.head())\n"
   ]
  },
  {
   "cell_type": "code",
   "execution_count": 6,
   "id": "431ec225",
   "metadata": {},
   "outputs": [
    {
     "name": "stdout",
     "output_type": "stream",
     "text": [
      "<class 'pandas.core.frame.DataFrame'>\n",
      "RangeIndex: 293070 entries, 0 to 293069\n",
      "Data columns (total 6 columns):\n",
      " #   Column      Non-Null Count   Dtype         \n",
      "---  ------      --------------   -----         \n",
      " 0   valid_time  293070 non-null  datetime64[ns]\n",
      " 1   latitude    293070 non-null  float64       \n",
      " 2   longitude   293070 non-null  float64       \n",
      " 3   t2m         293070 non-null  float32       \n",
      " 4   number      293070 non-null  int64         \n",
      " 5   expver      293070 non-null  object        \n",
      "dtypes: datetime64[ns](1), float32(1), float64(2), int64(1), object(1)\n",
      "memory usage: 12.3+ MB\n",
      "None\n"
     ]
    }
   ],
   "source": [
    "print(df.info())\n"
   ]
  },
  {
   "cell_type": "code",
   "execution_count": 7,
   "id": "8a1e0fd2",
   "metadata": {},
   "outputs": [
    {
     "name": "stdout",
     "output_type": "stream",
     "text": [
      "count    293070.000000\n",
      "mean        291.967468\n",
      "std           6.299188\n",
      "min         264.428436\n",
      "25%         288.160782\n",
      "50%         292.889709\n",
      "75%         296.533585\n",
      "max         312.534515\n",
      "Name: t2m, dtype: float64\n"
     ]
    }
   ],
   "source": [
    "print(df['t2m'].describe())"
   ]
  },
  {
   "cell_type": "code",
   "execution_count": 8,
   "id": "0500f3dd",
   "metadata": {},
   "outputs": [],
   "source": [
    "df.drop(columns=['number', 'expver'], inplace=True)"
   ]
  },
  {
   "cell_type": "markdown",
   "id": "bfefcb9f",
   "metadata": {},
   "source": [
    "Why Temp at 2m? <br><br> Because, 2-meter air temperature is an important measure for analyzing extreme weather and how water and energy move between the land surface and the atmosphere (Ullah et al., 2023)."
   ]
  },
  {
   "cell_type": "code",
   "execution_count": 9,
   "id": "d7ddd124",
   "metadata": {},
   "outputs": [
    {
     "name": "stdout",
     "output_type": "stream",
     "text": [
      "[28.   27.75 27.5 ]\n",
      "[85.   85.25 85.5  85.75 86.  ]\n"
     ]
    }
   ],
   "source": [
    "print(df['latitude'].unique())\n",
    "print(df['longitude'].unique())"
   ]
  },
  {
   "cell_type": "code",
   "execution_count": 11,
   "id": "616bcdb2",
   "metadata": {},
   "outputs": [],
   "source": [
    "df['t2m_C'] = df['t2m'] - 273.15"
   ]
  },
  {
   "cell_type": "code",
   "execution_count": 12,
   "id": "22f7ae32",
   "metadata": {},
   "outputs": [
    {
     "data": {
      "text/plain": [
       "39.38452"
      ]
     },
     "execution_count": 12,
     "metadata": {},
     "output_type": "execute_result"
    }
   ],
   "source": [
    "df['t2m_C'].max()"
   ]
  },
  {
   "cell_type": "code",
   "execution_count": null,
   "id": "a4e6878e",
   "metadata": {},
   "outputs": [],
   "source": []
  }
 ],
 "metadata": {
  "kernelspec": {
   "display_name": "nlp-env",
   "language": "python",
   "name": "python3"
  },
  "language_info": {
   "codemirror_mode": {
    "name": "ipython",
    "version": 3
   },
   "file_extension": ".py",
   "mimetype": "text/x-python",
   "name": "python",
   "nbconvert_exporter": "python",
   "pygments_lexer": "ipython3",
   "version": "3.12.1"
  }
 },
 "nbformat": 4,
 "nbformat_minor": 5
}
